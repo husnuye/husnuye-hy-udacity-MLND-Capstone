{
 "cells": [
  {
   "cell_type": "markdown",
   "metadata": {},
   "source": [
    "# Capstone Project\n",
    "## Machine Learning Engineer Nanodegree"
   ]
  },
  {
   "cell_type": "code",
   "execution_count": 2,
   "metadata": {},
   "outputs": [
    {
     "name": "stdout",
     "output_type": "stream",
     "text": [
      "C:\\Users\\husnu\n",
      "C:\\Users\\husnu\\Desktop\\MachineLearningNanodegre\\capstone\n"
     ]
    }
   ],
   "source": [
    "import os\n",
    "print (os.getcwd())\n",
    "os.chdir('C:\\\\Users\\husnu\\Desktop\\MachineLearningNanodegre\\capstone')\n",
    "print (os.getcwd())"
   ]
  },
  {
   "cell_type": "code",
   "execution_count": 1,
   "metadata": {},
   "outputs": [
    {
     "name": "stderr",
     "output_type": "stream",
     "text": [
      "Using TensorFlow backend.\n"
     ]
    }
   ],
   "source": [
    "import pandas as pd\n",
    "import numpy as np\n",
    "import matplotlib.pyplot as plt\n",
    "import seaborn as sns\n",
    "import nltk\n",
    "from nltk import word_tokenize\n",
    "from collections import Counter\n",
    "from sklearn.feature_extraction.text import CountVectorizer, TfidfVectorizer\n",
    "from sklearn.model_selection import train_test_split\n",
    "from sklearn.metrics import accuracy_score, f1_score\n",
    "from keras.preprocessing import text, sequence\n",
    "from keras.utils import to_categorical\n",
    "from keras.models import Sequential, Input, Model\n",
    "from keras.layers import Dense, Dropout, Flatten, Embedding, SpatialDropout1D, LSTM, BatchNormalization\n",
    "\n",
    "from time import time\n",
    "\n",
    "from sklearn.linear_model import LogisticRegression\n",
    "from sklearn.svm import LinearSVC\n",
    "from sklearn.naive_bayes import MultinomialNB\n",
    "from sklearn.ensemble import RandomForestClassifier\n",
    "from sklearn.tree import DecisionTreeClassifier\n",
    "\n",
    "%matplotlib inline"
   ]
  },
  {
   "cell_type": "code",
   "execution_count": 3,
   "metadata": {},
   "outputs": [
    {
     "data": {
      "text/html": [
       "<div>\n",
       "<style scoped>\n",
       "    .dataframe tbody tr th:only-of-type {\n",
       "        vertical-align: middle;\n",
       "    }\n",
       "\n",
       "    .dataframe tbody tr th {\n",
       "        vertical-align: top;\n",
       "    }\n",
       "\n",
       "    .dataframe thead th {\n",
       "        text-align: right;\n",
       "    }\n",
       "</style>\n",
       "<table border=\"1\" class=\"dataframe\">\n",
       "  <thead>\n",
       "    <tr style=\"text-align: right;\">\n",
       "      <th></th>\n",
       "      <th>PhraseId</th>\n",
       "      <th>SentenceId</th>\n",
       "      <th>Phrase</th>\n",
       "      <th>Sentiment</th>\n",
       "    </tr>\n",
       "  </thead>\n",
       "  <tbody>\n",
       "    <tr>\n",
       "      <th>0</th>\n",
       "      <td>1</td>\n",
       "      <td>1</td>\n",
       "      <td>A series of escapades demonstrating the adage ...</td>\n",
       "      <td>1</td>\n",
       "    </tr>\n",
       "    <tr>\n",
       "      <th>1</th>\n",
       "      <td>2</td>\n",
       "      <td>1</td>\n",
       "      <td>A series of escapades demonstrating the adage ...</td>\n",
       "      <td>2</td>\n",
       "    </tr>\n",
       "    <tr>\n",
       "      <th>2</th>\n",
       "      <td>3</td>\n",
       "      <td>1</td>\n",
       "      <td>A series</td>\n",
       "      <td>2</td>\n",
       "    </tr>\n",
       "    <tr>\n",
       "      <th>3</th>\n",
       "      <td>4</td>\n",
       "      <td>1</td>\n",
       "      <td>A</td>\n",
       "      <td>2</td>\n",
       "    </tr>\n",
       "    <tr>\n",
       "      <th>4</th>\n",
       "      <td>5</td>\n",
       "      <td>1</td>\n",
       "      <td>series</td>\n",
       "      <td>2</td>\n",
       "    </tr>\n",
       "  </tbody>\n",
       "</table>\n",
       "</div>"
      ],
      "text/plain": [
       "   PhraseId  SentenceId                                             Phrase  \\\n",
       "0         1           1  A series of escapades demonstrating the adage ...   \n",
       "1         2           1  A series of escapades demonstrating the adage ...   \n",
       "2         3           1                                           A series   \n",
       "3         4           1                                                  A   \n",
       "4         5           1                                             series   \n",
       "\n",
       "   Sentiment  \n",
       "0          1  \n",
       "1          2  \n",
       "2          2  \n",
       "3          2  \n",
       "4          2  "
      ]
     },
     "execution_count": 3,
     "metadata": {},
     "output_type": "execute_result"
    }
   ],
   "source": [
    "#load and examine the data\n",
    "data=pd.read_csv('train.tsv',  sep=\"\\t\")\n",
    "data.head()"
   ]
  },
  {
   "cell_type": "code",
   "execution_count": 4,
   "metadata": {},
   "outputs": [
    {
     "data": {
      "text/plain": [
       "(156060, 4)"
      ]
     },
     "execution_count": 4,
     "metadata": {},
     "output_type": "execute_result"
    }
   ],
   "source": [
    "data.shape"
   ]
  },
  {
   "cell_type": "code",
   "execution_count": 5,
   "metadata": {},
   "outputs": [
    {
     "data": {
      "text/plain": [
       "5"
      ]
     },
     "execution_count": 5,
     "metadata": {},
     "output_type": "execute_result"
    }
   ],
   "source": [
    "data['Sentiment'].nunique()"
   ]
  },
  {
   "cell_type": "markdown",
   "metadata": {},
   "source": [
    "## Data Analysis\n",
    "Looking at the data, multiple phrases are generated from a single sentence. \n",
    "There are 5 unique output classes or values for sentiments. They correspond to the values:<br>0 - negative<br>1 - somewhat negative<br>2 - neutral<br>3 - somewhat positive<br>4 - positive"
   ]
  },
  {
   "cell_type": "code",
   "execution_count": 6,
   "metadata": {},
   "outputs": [
    {
     "name": "stdout",
     "output_type": "stream",
     "text": [
      "Total Number of Samples(Phrases) = 156060\n",
      "Total Number of Sentences = 8529\n"
     ]
    },
    {
     "data": {
      "text/plain": [
       "0     7072\n",
       "1    27273\n",
       "2    79582\n",
       "3    32927\n",
       "4     9206\n",
       "Name: Sentiment, dtype: int64"
      ]
     },
     "execution_count": 6,
     "metadata": {},
     "output_type": "execute_result"
    }
   ],
   "source": [
    "print(\"Total Number of Samples(Phrases) = {}\".format(data.shape[0]))\n",
    "print(\"Total Number of Sentences = {}\".format(len(data['SentenceId'].unique())))\n",
    "data[\"Sentiment\"].value_counts(sort=False)"
   ]
  },
  {
   "cell_type": "markdown",
   "metadata": {},
   "source": [
    "As can be seen more phrases are neutral(sentiment 2), followed by somewhat positive or negative (sentiment 1 or 3). Much fewer are strictly positive or negative (sentiment 0 or 4) which makes the job of classification much more difficult. \n",
    "\n",
    "Looking at Phrases:\n"
   ]
  },
  {
   "cell_type": "code",
   "execution_count": 7,
   "metadata": {},
   "outputs": [
    {
     "name": "stdout",
     "output_type": "stream",
     "text": [
      "[nltk_data] Downloading package punkt to\n",
      "[nltk_data]     C:\\Users\\husnu\\AppData\\Roaming\\nltk_data...\n",
      "[nltk_data]   Package punkt is already up-to-date!\n"
     ]
    },
    {
     "data": {
      "text/plain": [
       "True"
      ]
     },
     "execution_count": 7,
     "metadata": {},
     "output_type": "execute_result"
    }
   ],
   "source": [
    "import nltk\n",
    "nltk.download('punkt')\n"
   ]
  },
  {
   "cell_type": "code",
   "execution_count": 8,
   "metadata": {},
   "outputs": [
    {
     "data": {
      "text/html": [
       "<div>\n",
       "<style scoped>\n",
       "    .dataframe tbody tr th:only-of-type {\n",
       "        vertical-align: middle;\n",
       "    }\n",
       "\n",
       "    .dataframe tbody tr th {\n",
       "        vertical-align: top;\n",
       "    }\n",
       "\n",
       "    .dataframe thead th {\n",
       "        text-align: right;\n",
       "    }\n",
       "</style>\n",
       "<table border=\"1\" class=\"dataframe\">\n",
       "  <thead>\n",
       "    <tr style=\"text-align: right;\">\n",
       "      <th></th>\n",
       "      <th>PhraseId</th>\n",
       "      <th>SentenceId</th>\n",
       "      <th>Phrase</th>\n",
       "      <th>Sentiment</th>\n",
       "      <th>Phrase_words</th>\n",
       "    </tr>\n",
       "  </thead>\n",
       "  <tbody>\n",
       "    <tr>\n",
       "      <th>0</th>\n",
       "      <td>1</td>\n",
       "      <td>1</td>\n",
       "      <td>A series of escapades demonstrating the adage ...</td>\n",
       "      <td>1</td>\n",
       "      <td>[A, series, of, escapades, demonstrating, the,...</td>\n",
       "    </tr>\n",
       "    <tr>\n",
       "      <th>1</th>\n",
       "      <td>2</td>\n",
       "      <td>1</td>\n",
       "      <td>A series of escapades demonstrating the adage ...</td>\n",
       "      <td>2</td>\n",
       "      <td>[A, series, of, escapades, demonstrating, the,...</td>\n",
       "    </tr>\n",
       "    <tr>\n",
       "      <th>2</th>\n",
       "      <td>3</td>\n",
       "      <td>1</td>\n",
       "      <td>A series</td>\n",
       "      <td>2</td>\n",
       "      <td>[A, series]</td>\n",
       "    </tr>\n",
       "    <tr>\n",
       "      <th>3</th>\n",
       "      <td>4</td>\n",
       "      <td>1</td>\n",
       "      <td>A</td>\n",
       "      <td>2</td>\n",
       "      <td>[A]</td>\n",
       "    </tr>\n",
       "    <tr>\n",
       "      <th>4</th>\n",
       "      <td>5</td>\n",
       "      <td>1</td>\n",
       "      <td>series</td>\n",
       "      <td>2</td>\n",
       "      <td>[series]</td>\n",
       "    </tr>\n",
       "  </tbody>\n",
       "</table>\n",
       "</div>"
      ],
      "text/plain": [
       "   PhraseId  SentenceId                                             Phrase  \\\n",
       "0         1           1  A series of escapades demonstrating the adage ...   \n",
       "1         2           1  A series of escapades demonstrating the adage ...   \n",
       "2         3           1                                           A series   \n",
       "3         4           1                                                  A   \n",
       "4         5           1                                             series   \n",
       "\n",
       "   Sentiment                                       Phrase_words  \n",
       "0          1  [A, series, of, escapades, demonstrating, the,...  \n",
       "1          2  [A, series, of, escapades, demonstrating, the,...  \n",
       "2          2                                        [A, series]  \n",
       "3          2                                                [A]  \n",
       "4          2                                           [series]  "
      ]
     },
     "execution_count": 8,
     "metadata": {},
     "output_type": "execute_result"
    }
   ],
   "source": [
    "data['Phrase_words'] = data[\"Phrase\"].apply(word_tokenize)\n",
    "data.head() "
   ]
  },
  {
   "cell_type": "code",
   "execution_count": 9,
   "metadata": {},
   "outputs": [
    {
     "name": "stdout",
     "output_type": "stream",
     "text": [
      "Maximum number of words in a Phrase = 53\n",
      "Minimum number of words in a Phrase = 0\n",
      "Mean word length of a Phrase = 7.208\n",
      "Median word length of a Phrase = 5.0\n"
     ]
    }
   ],
   "source": [
    "def get_num_words_per_sample(sample_texts):\n",
    "    num_words = [len(s) for s in sample_texts]\n",
    "    return num_words\n",
    "word_len = get_num_words_per_sample(data['Phrase_words'])\n",
    "print(\"Maximum number of words in a Phrase = {}\".format(np.max(word_len)))\n",
    "print(\"Minimum number of words in a Phrase = {}\".format(np.min(word_len)))\n",
    "print(\"Mean word length of a Phrase = {0:.3f}\".format(np.mean(word_len)))\n",
    "print(\"Median word length of a Phrase = {}\".format(np.median(word_len)))"
   ]
  },
  {
   "cell_type": "markdown",
   "metadata": {},
   "source": [
    "### Data Visualization\n",
    "\n",
    "Data Samples are distributed among the various classes as follows"
   ]
  },
  {
   "cell_type": "code",
   "execution_count": 10,
   "metadata": {},
   "outputs": [
    {
     "data": {
      "text/plain": [
       "Text(0,0.5,'Number of Reviews')"
      ]
     },
     "execution_count": 10,
     "metadata": {},
     "output_type": "execute_result"
    },
    {
     "data": {
      "image/png": "[encoded data removed]",
      "text/plain": [
       "<Figure size 432x360 with 1 Axes>"
      ]
     },
     "metadata": {},
     "output_type": "display_data"
    }
   ],
   "source": [
    "x = np.array(data['Sentiment'].value_counts(sort=False).index)\n",
    "y = np.array(data['Sentiment'].value_counts(sort=False).values)\n",
    "plt.figure(figsize=(6,5))\n",
    "sns.barplot(x,y)\n",
    "plt.xlabel('Sentiment')\n",
    "plt.ylabel('Number of Reviews')"
   ]
  },
  {
   "cell_type": "markdown",
   "metadata": {},
   "source": [
    "Here is a plot of most frequently occuring words in the data"
   ]
  },
  {
   "cell_type": "code",
   "execution_count": 11,
   "metadata": {},
   "outputs": [],
   "source": [
    "def plot_frequency_distribution_of_words(sample_texts,\n",
    "                                          num_words=30):\n",
    "    # Create args required for vectorizing.\n",
    "    kwargs = {\n",
    "            'dtype': 'int32',\n",
    "            'strip_accents': 'unicode',\n",
    "            'decode_error': 'replace',\n",
    "            'analyzer': 'word',  # Split text into word tokens.\n",
    "            'stop_words' : 'english' #remove the stop words in english\n",
    "    }\n",
    "    vectorizer = CountVectorizer(**kwargs)\n",
    "\n",
    "    # This creates a vocabulary (dict, where keys are words and values are\n",
    "    # idxices). \n",
    "    vectorized_texts = vectorizer.fit_transform(sample_texts)\n",
    "\n",
    "    # This is the list of all words in the index order from the vocabulary.\n",
    "    all_words = list(vectorizer.get_feature_names())\n",
    "    num_words = min(num_words, len(all_words))\n",
    "\n",
    "    # Add up the counts per word ie. column-wise\n",
    "    all_counts = vectorized_texts.sum(axis=0).tolist()[0]\n",
    "\n",
    "    # Sort words and counts by frequency and get top words.\n",
    "    all_counts, all_words = zip(*[(c, n) for c, n in sorted(\n",
    "        zip(all_counts, all_words), reverse=True)])\n",
    "    nwords = list(all_words)[:num_words]\n",
    "    counts = list(all_counts)[:num_words]\n",
    "\n",
    "    idx = np.arange(num_words)\n",
    "    plt.figure(figsize=(9,5))\n",
    "    plt.bar(idx, counts, width=0.8, color='b')\n",
    "    plt.xlabel('Most Frequently found words')\n",
    "    plt.ylabel('Frequencies')\n",
    "    plt.title('Frequency distribution of words')\n",
    "    plt.xticks(idx, nwords, rotation=45)\n",
    "    plt.show()\n"
   ]
  },
  {
   "cell_type": "code",
   "execution_count": 12,
   "metadata": {},
   "outputs": [
    {
     "data": {
      "image/png": "[encoded data removed]",
      "text/plain": [
       "<Figure size 648x360 with 1 Axes>"
      ]
     },
     "metadata": {},
     "output_type": "display_data"
    }
   ],
   "source": [
    "# This shows most frequent words in all the data samples \n",
    "plot_frequency_distribution_of_words(data['Phrase'])"
   ]
  },
  {
   "cell_type": "code",
   "execution_count": 13,
   "metadata": {},
   "outputs": [
    {
     "data": {
      "image/png": "[encoded data removed]",
      "text/plain": [
       "<Figure size 648x360 with 1 Axes>"
      ]
     },
     "metadata": {},
     "output_type": "display_data"
    }
   ],
   "source": [
    "# Most frequent words in Negative Sentiments\n",
    "neg_data = data[data['Sentiment']==0]\n",
    "plot_frequency_distribution_of_words(neg_data['Phrase'])"
   ]
  },
  {
   "cell_type": "code",
   "execution_count": 14,
   "metadata": {},
   "outputs": [
    {
     "data": {
      "image/png": "[encoded data removed]",
      "text/plain": [
       "<Figure size 648x360 with 1 Axes>"
      ]
     },
     "metadata": {},
     "output_type": "display_data"
    }
   ],
   "source": [
    "# Most frequent words in Somewhat Negative Sentiments\n",
    "sneg_data = data[data['Sentiment']==1]\n",
    "plot_frequency_distribution_of_words(sneg_data['Phrase'])"
   ]
  },
  {
   "cell_type": "code",
   "execution_count": 15,
   "metadata": {},
   "outputs": [
    {
     "data": {
      "image/png": "[encoded data removed]",
      "text/plain": [
       "<Figure size 648x360 with 1 Axes>"
      ]
     },
     "metadata": {},
     "output_type": "display_data"
    }
   ],
   "source": [
    "# Most frequent words in Neutral Sentiments\n",
    "neutral_data = data[data['Sentiment']==2]\n",
    "plot_frequency_distribution_of_words(neutral_data['Phrase'])"
   ]
  },
  {
   "cell_type": "code",
   "execution_count": 16,
   "metadata": {},
   "outputs": [
    {
     "data": {
      "image/png": "[encoded data removed]",
      "text/plain": [
       "<Figure size 648x360 with 1 Axes>"
      ]
     },
     "metadata": {},
     "output_type": "display_data"
    }
   ],
   "source": [
    "# Most frequent words in Somewhat Positive Sentiments\n",
    "spos_data = data[data['Sentiment']==3]\n",
    "plot_frequency_distribution_of_words(spos_data['Phrase'])"
   ]
  },
  {
   "cell_type": "code",
   "execution_count": 17,
   "metadata": {},
   "outputs": [
    {
     "data": {
      "image/png": "[encoded data removed]",
      "text/plain": [
       "<Figure size 648x360 with 1 Axes>"
      ]
     },
     "metadata": {},
     "output_type": "display_data"
    }
   ],
   "source": [
    "# Most frequent words in Somewhat Positive Sentiments\n",
    "pos_data = data[data['Sentiment']==4]\n",
    "plot_frequency_distribution_of_words(pos_data['Phrase'])"
   ]
  },
  {
   "cell_type": "markdown",
   "metadata": {},
   "source": [
    "Some Observations based on these graphs:\n",
    "-  Negative reviews include words like bad, worst, dull.\n",
    "-  Positive reviews include words like best, funny, good, great, love.\n",
    "-  Neutral reviews have words like story, time, life, characters.<br><br>\n",
    "\n",
    "### Data Preprocessing\n"
   ]
  },
  {
   "cell_type": "code",
   "execution_count": 18,
   "metadata": {},
   "outputs": [
    {
     "name": "stdout",
     "output_type": "stream",
     "text": [
      "(117045,) (117045,)\n",
      "(39015,) (39015,)\n"
     ]
    }
   ],
   "source": [
    "# split data into training and testing set with 75/25 ratio. Also used stratify \n",
    "# to maintain the class distribution in training and testing set\n",
    "all_train = data['Phrase']\n",
    "y = data[\"Sentiment\"]\n",
    "X_train, X_test, y_train, y_test = train_test_split(data['Phrase'], y, test_size=0.25, \n",
    "                                                    random_state =None, \n",
    "                                                    stratify=data['Sentiment'])\n",
    "print(X_train.shape, y_train.shape)\n",
    "print(X_test.shape, y_test.shape)"
   ]
  },
  {
   "cell_type": "code",
   "execution_count": 19,
   "metadata": {},
   "outputs": [
    {
     "data": {
      "text/plain": [
       "(117045, 500)"
      ]
     },
     "execution_count": 19,
     "metadata": {},
     "output_type": "execute_result"
    }
   ],
   "source": [
    "# Use CountVectorizer to clean the data, remove stop words and generate n-grams \n",
    "# Use a maximum of 500 words\n",
    "count_vec = CountVectorizer(stop_words='english', analyzer='word', ngram_range=(1,3), \n",
    "                            max_features=500)\n",
    "xtrain_c = count_vec.fit_transform(X_train)\n",
    "xtest_c = count_vec.fit_transform(X_test)\n",
    "xtrain_c.shape"
   ]
  },
  {
   "cell_type": "code",
   "execution_count": 20,
   "metadata": {},
   "outputs": [
    {
     "data": {
      "text/plain": [
       "(117045, 131668)"
      ]
     },
     "execution_count": 20,
     "metadata": {},
     "output_type": "execute_result"
    }
   ],
   "source": [
    "# Another vectorizer used, which gives normalized results is TF-IDF\n",
    "vectorizer = TfidfVectorizer(\n",
    "    sublinear_tf=True,\n",
    "    strip_accents='unicode', # Remove accents during the preprocessing step.\n",
    "    analyzer='word', \n",
    "    stop_words='english', # remove english stop words\n",
    "    ngram_range=(1, 3), \n",
    "    max_features=300000)\n",
    "vectorizer.fit(all_train)\n",
    "xtrain_f =  vectorizer.transform(X_train) \n",
    "xtest_f =  vectorizer.transform(X_test)\n",
    "\n",
    "xtrain_f.shape"
   ]
  },
  {
   "cell_type": "code",
   "execution_count": 21,
   "metadata": {},
   "outputs": [
    {
     "name": "stdout",
     "output_type": "stream",
     "text": [
      "[nltk_data] Error loading stopwords: <urlopen error [Errno 11001]\n",
      "[nltk_data]     getaddrinfo failed>\n"
     ]
    },
    {
     "data": {
      "text/plain": [
       "False"
      ]
     },
     "execution_count": 21,
     "metadata": {},
     "output_type": "execute_result"
    }
   ],
   "source": [
    "import nltk\n",
    "nltk.download('stopwords')"
   ]
  },
  {
   "cell_type": "code",
   "execution_count": 22,
   "metadata": {},
   "outputs": [],
   "source": [
    "# Cleaning and Preprocessing Data for Convolutional Neural Networks, remove stopwords, create \n",
    "# equal length input sequences and one hot encode them. \n",
    "stopwords = set(nltk.corpus.stopwords.words(\"english\"))\n",
    "max_vocab = 2000\n",
    "def remove_stopwords(word_list):\n",
    "    return [word.lower() for word in word_list if word.lower() not in stopwords]\n",
    "\n",
    "#Add a new column for preprocessing, which tokenizes, removes stopwords and then \n",
    "# joins the words back together\n",
    "data['Phrase_mod'] = data['Phrase'].apply(word_tokenize).apply(remove_stopwords).apply(lambda x: \" \".join(x))\n",
    "\n",
    "data[\"num_words\"] = data[\"Phrase_mod\"].apply(len)\n",
    "data = data[data[\"num_words\"] > 0]\n",
    "\n",
    "tokenizer = text.Tokenizer(num_words=max_vocab)\n",
    "tokenizer.fit_on_texts(data[\"Phrase_mod\"])\n",
    "x_tokenized=tokenizer.texts_to_sequences(data[\"Phrase_mod\"])\n",
    "X_train_conv, X_test_conv, y_train_conv, y_test_conv = train_test_split(x_tokenized, data['Sentiment'],\n",
    "                                                                        test_size=0.25, random_state = None,\n",
    "                                                                        stratify=data['Sentiment'])\n"
   ]
  },
  {
   "cell_type": "code",
   "execution_count": 23,
   "metadata": {},
   "outputs": [
    {
     "name": "stdout",
     "output_type": "stream",
     "text": [
      "(116437, 2000) (116437, 5)\n",
      "(38813, 2000) (38813, 5)\n"
     ]
    }
   ],
   "source": [
    "# One hot encode the Phrases and the labels for the Convolutional Neural Network\n",
    "X_train_conv_cat = tokenizer.sequences_to_matrix(X_train_conv, mode='binary')\n",
    "X_test_conv_cat = tokenizer.sequences_to_matrix(X_test_conv, mode='binary')\n",
    "y_train_conv = to_categorical(y_train_conv)\n",
    "y_test_conv = to_categorical(y_test_conv)\n",
    "print(X_train_conv_cat.shape, y_train_conv.shape)\n",
    "print(X_test_conv_cat.shape, y_test_conv.shape)"
   ]
  },
  {
   "cell_type": "code",
   "execution_count": 24,
   "metadata": {},
   "outputs": [
    {
     "name": "stdout",
     "output_type": "stream",
     "text": [
      "Time taken load word2vec = 203.22\n"
     ]
    }
   ],
   "source": [
    "# Loading word2vec embeddings for use in LSTM \n",
    "import io\n",
    "from time import time\n",
    "def load_vectors(fname):\n",
    "    fin = io.open(fname, 'r', encoding='utf-8', newline='\\n', errors='ignore')\n",
    "    n, d = map(int, fin.readline().split())\n",
    "    data = {}\n",
    "    for line in fin:\n",
    "        tokens = line.rstrip().split(' ')\n",
    "        data[tokens[0]] = np.asarray(tokens[1:], dtype='float32')\n",
    "    return data\n",
    "\n",
    "t1 = time()\n",
    "embeddings = load_vectors('wiki-news-300d-1M.vec')\n",
    "t2 = time()\n",
    "print(\"Time taken load word2vec = {:.2f}\".format(t2-t1))\n",
    "\n"
   ]
  },
  {
   "cell_type": "code",
   "execution_count": 25,
   "metadata": {},
   "outputs": [],
   "source": [
    "X_train_seq = {}\n",
    "X_test_seq = {}\n"
   ]
  },
  {
   "cell_type": "code",
   "execution_count": 26,
   "metadata": {},
   "outputs": [
    {
     "name": "stdout",
     "output_type": "stream",
     "text": [
      "Embedding not found for 868 word\n"
     ]
    }
   ],
   "source": [
    "# Further processing for x_tokenized for using the loaded word embeddings \n",
    "rnn_tokenizer = text.Tokenizer()\n",
    "rnn_tokenizer.fit_on_texts(data[\"Phrase_mod\"])\n",
    "word_index = rnn_tokenizer.word_index\n",
    "x_tokenized_rnn=tokenizer.texts_to_sequences(data[\"Phrase_mod\"])\n",
    "\n",
    "X_train_rnn, X_test_rnn, y_train_rnn, y_test_rnn = train_test_split(data[\"Phrase_mod\"], data[\"Sentiment\"], test_size=0.25, \n",
    "                                                    random_state =None, stratify=data['Sentiment'])\n",
    "#print(X_train_rnn.shape)\n",
    "# Prepairing data for using the word embeddings in LSTM RNN\n",
    "X_train_seq = sequence.pad_sequences(rnn_tokenizer.texts_to_sequences(X_train_rnn), maxlen=32)\n",
    "X_test_seq = sequence.pad_sequences(rnn_tokenizer.texts_to_sequences(X_test_rnn), maxlen=32)\n",
    "\n",
    "nf = 0\n",
    "word_nf = []\n",
    "# Generate mapping for current words using available word2vec model\n",
    "mapping = np.zeros((len(word_index)+1, 300))\n",
    "for word, i in word_index.items():\n",
    "    embed_vec = embeddings.get(word)\n",
    "    if embed_vec is not None:\n",
    "        mapping[i] = np.asarray(embed_vec)\n",
    "    else:\n",
    "        #print(\"Embedding not found for '{}'\".format(word))\n",
    "        word_nf.append(word)\n",
    "        nf += 1\n",
    "print(\"Embedding not found for {} word\".format(nf))"
   ]
  },
  {
   "cell_type": "code",
   "execution_count": 27,
   "metadata": {},
   "outputs": [],
   "source": [
    "y_train_rnn = to_categorical(y_train_rnn)\n",
    "y_test_rnn = to_categorical(y_test_rnn)"
   ]
  },
  {
   "cell_type": "markdown",
   "metadata": {},
   "source": [
    "### Benchmark Model - Naive Bayes Classifier\n"
   ]
  },
  {
   "cell_type": "code",
   "execution_count": 28,
   "metadata": {},
   "outputs": [],
   "source": [
    "cv_accuracy_dict = {}\n",
    "cv_f1score_dict = {}\n",
    "tf_accuracy_dict = {}\n",
    "tf_f1score_dict = {}\n",
    "\n",
    "def run_and_eval_model(name, cv_model, tf_model, cv_train, tf_train, cv_test, tf_test, \n",
    "                       y_tr, y_tst): \n",
    "                       #cv_acc_dict, cv_f1_dict, tf_acc_dict, tf_f1_dict):\n",
    "    t1 = time()\n",
    "    count_vec_model = cv_model.fit(cv_train, y_tr)\n",
    "    t2 = time()\n",
    "    print(\"Model\", name,  \"using CountVec fitted in {0:.2f} seconds\".format(t2-t1))\n",
    "\n",
    "    predictionsc = count_vec_model.predict(cv_test)\n",
    "    acc_score = round((accuracy_score(y_tst, predictionsc) * 100), 3)\n",
    "    f1_sc = round((f1_score(y_tst, predictionsc, average='weighted')), 3)\n",
    "    print(\"Model\" , name, \"using CountVectorizer Accuracy Score = {0:.3f}\".format(acc_score))\n",
    "    print(\"& F1 Score = {0:.3f}\".format(f1_sc))\n",
    "    cv_accuracy_dict[name] = acc_score\n",
    "    cv_f1score_dict[name] = f1_sc\n",
    "\n",
    "    # Using Tfidf Vectorizer\n",
    "    t1 = time()\n",
    "    tf_idf_model = tf_model.fit(tf_train, y_tr)\n",
    "    t2 = time()\n",
    "    print(\"Model\", name, \"using TfidfVec fitted in {:.2f} seconds\".format(t2-t1))\n",
    "\n",
    "    predictionst = tf_idf_model.predict(tf_test)\n",
    "    acc_score_t = round((accuracy_score(y_tst, predictionst) * 100), 3)\n",
    "    f1_score_t = round((f1_score(y_tst, predictionst, average='weighted')), 3)\n",
    "    print(\"Model\", name, \"using TfIdfVectorizer Accuracy Score = {0:.3f}\".format(acc_score_t))\n",
    "    print(\"& F1 Score = {0:.3f}\".format(f1_score_t))\n",
    "    tf_accuracy_dict[name] = acc_score_t\n",
    "    tf_f1score_dict[name] = f1_score_t"
   ]
  },
  {
   "cell_type": "code",
   "execution_count": 29,
   "metadata": {},
   "outputs": [
    {
     "name": "stdout",
     "output_type": "stream",
     "text": [
      "Model NaiveBayes using CountVec fitted in 0.52 seconds\n",
      "Model NaiveBayes using CountVectorizer Accuracy Score = 49.058\n",
      "& F1 Score = 0.384\n",
      "Model NaiveBayes using TfidfVec fitted in 0.91 seconds\n",
      "Model NaiveBayes using TfIdfVectorizer Accuracy Score = 61.066\n",
      "& F1 Score = 0.558\n"
     ]
    }
   ],
   "source": [
    "# Benchmark Model - Multinomial Naive Bayes\n",
    "run_and_eval_model(\"NaiveBayes\", MultinomialNB(), MultinomialNB(),xtrain_c, xtrain_f, \n",
    "                    xtest_c, xtest_f, y_train, y_test)"
   ]
  },
  {
   "cell_type": "markdown",
   "metadata": {},
   "source": [
    "The benchmark model used is __Multinomial Naive Bayes Classifier__.\n",
    "-  Random guessing gives 20% accuracy\n",
    "-  Naive Bayes with CountVectorizer gives 49.058% accuracy which is a lot better than random guessing. \n",
    "-  Naive Bayes with TfidfVectorizer does much better and gives 61.066% accuracy \n",
    "- Let's see how much better we can do with some other Algorithms.\n",
    "\n",
    "\n",
    "Let's try the following Supervised Learning Classifiers:\n",
    " - Logistic Regression\n",
    " - Linear Support Vector Machine\n",
    " - Random Forest"
   ]
  },
  {
   "cell_type": "code",
   "execution_count": 30,
   "metadata": {},
   "outputs": [
    {
     "name": "stdout",
     "output_type": "stream",
     "text": [
      "Model LogisticRegression using CountVec fitted in 6.45 seconds\n",
      "Model LogisticRegression using CountVectorizer Accuracy Score = 49.381\n",
      "& F1 Score = 0.409\n",
      "Model LogisticRegression using TfidfVec fitted in 7.87 seconds\n",
      "Model LogisticRegression using TfIdfVectorizer Accuracy Score = 61.538\n",
      "& F1 Score = 0.572\n"
     ]
    }
   ],
   "source": [
    "# Logistic Regression\n",
    "run_and_eval_model(\"LogisticRegression\", LogisticRegression(), LogisticRegression(),\n",
    "                    xtrain_c, xtrain_f, xtest_c, xtest_f, y_train, y_test)"
   ]
  },
  {
   "cell_type": "code",
   "execution_count": 31,
   "metadata": {},
   "outputs": [
    {
     "name": "stdout",
     "output_type": "stream",
     "text": [
      "Model LinearSVC using CountVec fitted in 70.16 seconds\n",
      "Model LinearSVC using CountVectorizer Accuracy Score = 49.327\n",
      "& F1 Score = 0.407\n",
      "Model LinearSVC using TfidfVec fitted in 9.46 seconds\n",
      "Model LinearSVC using TfIdfVectorizer Accuracy Score = 64.621\n",
      "& F1 Score = 0.638\n"
     ]
    }
   ],
   "source": [
    "# Linear Support Vector Machine\n",
    "run_and_eval_model(\"LinearSVC\", LinearSVC(), LinearSVC(), xtrain_c, xtrain_f, \n",
    "                    xtest_c, xtest_f, y_train, y_test)"
   ]
  },
  {
   "cell_type": "code",
   "execution_count": 32,
   "metadata": {},
   "outputs": [
    {
     "name": "stdout",
     "output_type": "stream",
     "text": [
      "Model RandomForest using CountVec fitted in 26.67 seconds\n",
      "Model RandomForest using CountVectorizer Accuracy Score = 47.784\n",
      "& F1 Score = 0.406\n",
      "Model RandomForest using TfidfVec fitted in 3884.20 seconds\n",
      "Model RandomForest using TfIdfVectorizer Accuracy Score = 63.414\n",
      "& F1 Score = 0.626\n"
     ]
    }
   ],
   "source": [
    "# Random Forest Classifier\n",
    "run_and_eval_model(\"RandomForest\", RandomForestClassifier(random_state=None), RandomForestClassifier(random_state=None),\n",
    "                    xtrain_c, xtrain_f, xtest_c, xtest_f, y_train, y_test)\n"
   ]
  },
  {
   "cell_type": "code",
   "execution_count": 33,
   "metadata": {},
   "outputs": [
    {
     "name": "stdout",
     "output_type": "stream",
     "text": [
      "{'RandomForest': 47.783999999999999, 'LinearSVC': 49.326999999999998, 'LogisticRegression': 49.381, 'NaiveBayes': 49.058}\n"
     ]
    }
   ],
   "source": [
    "print(cv_accuracy_dict)"
   ]
  },
  {
   "cell_type": "code",
   "execution_count": 34,
   "metadata": {},
   "outputs": [
    {
     "name": "stdout",
     "output_type": "stream",
     "text": [
      "{'RandomForest': 63.414000000000001, 'LinearSVC': 64.620999999999995, 'LogisticRegression': 61.537999999999997, 'NaiveBayes': 61.066000000000003}\n"
     ]
    }
   ],
   "source": [
    "print(tf_accuracy_dict)"
   ]
  },
  {
   "cell_type": "code",
   "execution_count": 35,
   "metadata": {
    "scrolled": true
   },
   "outputs": [
    {
     "name": "stdout",
     "output_type": "stream",
     "text": [
      "_________________________________________________________________\n",
      "Layer (type)                 Output Shape              Param #   \n",
      "=================================================================\n",
      "dropout_1 (Dropout)          (None, 2000)              0         \n",
      "_________________________________________________________________\n",
      "dense_1 (Dense)              (None, 230)               460230    \n",
      "_________________________________________________________________\n",
      "dropout_2 (Dropout)          (None, 230)               0         \n",
      "_________________________________________________________________\n",
      "dense_2 (Dense)              (None, 5)                 1155      \n",
      "=================================================================\n",
      "Total params: 461,385\n",
      "Trainable params: 461,385\n",
      "Non-trainable params: 0\n",
      "_________________________________________________________________\n"
     ]
    }
   ],
   "source": [
    "# Neural Network Model Architecture used\n",
    "input_shape = X_train_conv_cat.shape[1:]\n",
    "model = Sequential()\n",
    "model.add(Dropout(rate=0.2, input_shape=input_shape))\n",
    "model.add(Dense(230, activation='relu'))\n",
    "model.add(Dropout(0.2))\n",
    "model.add(Dense(5, activation='softmax'))\n",
    "\n",
    "model.summary()"
   ]
  },
  {
   "cell_type": "code",
   "execution_count": 36,
   "metadata": {},
   "outputs": [],
   "source": [
    "# Compile the model - adam seems to be the best optimizer\n",
    "model.compile(loss='categorical_crossentropy', optimizer='adam', \n",
    "              metrics=['accuracy'])"
   ]
  },
  {
   "cell_type": "code",
   "execution_count": 37,
   "metadata": {},
   "outputs": [
    {
     "name": "stdout",
     "output_type": "stream",
     "text": [
      "38813/38813 [==============================] - 23s 601us/step\n",
      "Test accuracy: 20.7018%\n"
     ]
    }
   ],
   "source": [
    "#Test the accuracy of the model before training, it could be anything close to the random guess\n",
    "score = model.evaluate(X_test_conv_cat, y_test_conv, verbose = 1)\n",
    "accuracy = 100*score[1]\n",
    "\n",
    "# print test accuracy\n",
    "print('Test accuracy: %.4f%%' % accuracy)"
   ]
  },
  {
   "cell_type": "code",
   "execution_count": 38,
   "metadata": {},
   "outputs": [
    {
     "name": "stdout",
     "output_type": "stream",
     "text": [
      "Train on 93149 samples, validate on 23288 samples\n",
      "Epoch 1/5\n",
      "93149/93149 [==============================] - 83s 893us/step - loss: 1.1215 - acc: 0.5666 - val_loss: 1.0210 - val_acc: 0.6026\n",
      "\n",
      "Epoch 00001: val_loss improved from inf to 1.02102, saving model to ./bestfit\n",
      "Epoch 2/5\n",
      "93149/93149 [==============================] - 287s 3ms/step - loss: 1.0302 - acc: 0.6024 - val_loss: 1.0009 - val_acc: 0.6154\n",
      "\n",
      "Epoch 00002: val_loss improved from 1.02102 to 1.00086, saving model to ./bestfit\n",
      "Epoch 3/5\n",
      "93149/93149 [==============================] - 53s 566us/step - loss: 0.9970 - acc: 0.6168 - val_loss: 0.9858 - val_acc: 0.6188\n",
      "\n",
      "Epoch 00003: val_loss improved from 1.00086 to 0.98583, saving model to ./bestfit\n",
      "Epoch 4/5\n",
      "93149/93149 [==============================] - 51s 546us/step - loss: 0.9693 - acc: 0.6274 - val_loss: 0.9793 - val_acc: 0.6231\n",
      "\n",
      "Epoch 00004: val_loss improved from 0.98583 to 0.97930, saving model to ./bestfit\n",
      "Epoch 5/5\n",
      "93149/93149 [==============================] - 51s 546us/step - loss: 0.9501 - acc: 0.6375 - val_loss: 0.9740 - val_acc: 0.6246\n",
      "\n",
      "Epoch 00005: val_loss improved from 0.97930 to 0.97396, saving model to ./bestfit\n"
     ]
    }
   ],
   "source": [
    "from keras.callbacks import ModelCheckpoint\n",
    "\n",
    "# Set the model up for ModelCheckPoint, train the model\n",
    "checkpointer = ModelCheckpoint(filepath='./bestfit', \n",
    "                               verbose=1, save_best_only=True)\n",
    "hist = model.fit(X_train_conv_cat, y_train_conv, batch_size=50, epochs=5,\n",
    "          validation_split=0.2, callbacks=[checkpointer],\n",
    "          verbose=1, shuffle=True)"
   ]
  },
  {
   "cell_type": "code",
   "execution_count": 39,
   "metadata": {},
   "outputs": [
    {
     "name": "stdout",
     "output_type": "stream",
     "text": [
      "38813/38813 [==============================] - 32s 821us/step\n",
      "Test accuracy: 62.2601%\n"
     ]
    }
   ],
   "source": [
    "# Load the best fit model and find its accuracy on test set\n",
    "model.load_weights('./bestfit')\n",
    "score = model.evaluate(X_test_conv_cat, y_test_conv, verbose=1)\n",
    "accuracy = 100*score[1]\n",
    "\n",
    "# print test accuracy\n",
    "print('Test accuracy: %.4f%%' % accuracy)"
   ]
  },
  {
   "cell_type": "markdown",
   "metadata": {},
   "source": [
    "#### Neural Network Accuracy - 62.26 %\n",
    "\n",
    "Let's try a Deep Neural Network with an LSTM next:"
   ]
  },
  {
   "cell_type": "code",
   "execution_count": 40,
   "metadata": {},
   "outputs": [
    {
     "name": "stdout",
     "output_type": "stream",
     "text": [
      "_________________________________________________________________\n",
      "Layer (type)                 Output Shape              Param #   \n",
      "=================================================================\n",
      "input_1 (InputLayer)         (None, 32)                0         \n",
      "_________________________________________________________________\n",
      "embedding_1 (Embedding)      (None, 32, 300)           4567200   \n",
      "_________________________________________________________________\n",
      "spatial_dropout1d_1 (Spatial (None, 32, 300)           0         \n",
      "_________________________________________________________________\n",
      "lstm_1 (LSTM)                (None, 256)               570368    \n",
      "_________________________________________________________________\n",
      "batch_normalization_1 (Batch (None, 256)               1024      \n",
      "_________________________________________________________________\n",
      "dense_3 (Dense)              (None, 128)               32896     \n",
      "_________________________________________________________________\n",
      "dropout_3 (Dropout)          (None, 128)               0         \n",
      "_________________________________________________________________\n",
      "dense_4 (Dense)              (None, 64)                8256      \n",
      "_________________________________________________________________\n",
      "dropout_4 (Dropout)          (None, 64)                0         \n",
      "_________________________________________________________________\n",
      "dense_5 (Dense)              (None, 5)                 325       \n",
      "=================================================================\n",
      "Total params: 5,180,069\n",
      "Trainable params: 612,357\n",
      "Non-trainable params: 4,567,712\n",
      "_________________________________________________________________\n"
     ]
    }
   ],
   "source": [
    "# Input Layer\n",
    "input_layer = Input((32,))\n",
    "\n",
    "# Embedding Layer\n",
    "embed1 = Embedding(len(word_index) + 1, 300, weights=[mapping], trainable=False)(input_layer)\n",
    "embed2 = SpatialDropout1D(0.25)(embed1)\n",
    "\n",
    "# LSTM with dropout\n",
    "lstm1 = LSTM(256, dropout=0.25)(embed2)\n",
    "\n",
    "# Batch Normalization\n",
    "batch1 = BatchNormalization()(lstm1)\n",
    "\n",
    "# Dense layers with Dropout\n",
    "d1 = Dense(128, activation=\"relu\")(batch1)\n",
    "dropout1 = Dropout(0.5)(d1)\n",
    "d2 = Dense(64, activation=\"relu\")(dropout1)\n",
    "dropout2 = Dropout(0.25)(d2)\n",
    "output_layer = Dense(5, activation=\"softmax\")(dropout2)\n",
    "\n",
    "# Compile the model \n",
    "lstm = Model(inputs=input_layer, outputs=output_layer)\n",
    "lstm.compile(optimizer=\"adam\", loss='categorical_crossentropy', metrics=[\"accuracy\"])\n",
    "lstm.summary()\n"
   ]
  },
  {
   "cell_type": "code",
   "execution_count": 41,
   "metadata": {},
   "outputs": [
    {
     "name": "stdout",
     "output_type": "stream",
     "text": [
      "Epoch 1/5\n",
      "116437/116437 [==============================] - 858s 7ms/step - loss: 1.0634 - acc: 0.5675\n",
      "Epoch 2/5\n",
      "116437/116437 [==============================] - 845s 7ms/step - loss: 0.9871 - acc: 0.5957\n",
      "Epoch 3/5\n",
      "116437/116437 [==============================] - 818s 7ms/step - loss: 0.9637 - acc: 0.6027\n",
      "Epoch 4/5\n",
      "116437/116437 [==============================] - 817s 7ms/step - loss: 0.9472 - acc: 0.6102\n",
      "Epoch 5/5\n",
      "116437/116437 [==============================] - 673s 6ms/step - loss: 0.9325 - acc: 0.6167\n"
     ]
    },
    {
     "data": {
      "text/plain": [
       "<keras.callbacks.History at 0x106157ccf60>"
      ]
     },
     "execution_count": 41,
     "metadata": {},
     "output_type": "execute_result"
    }
   ],
   "source": [
    "lstm.fit(X_train_seq, y_train_rnn, batch_size=50, epochs=5)\n"
   ]
  },
  {
   "cell_type": "code",
   "execution_count": 42,
   "metadata": {},
   "outputs": [
    {
     "name": "stdout",
     "output_type": "stream",
     "text": [
      "38813/38813 [==============================] - 81s 2ms/step\n"
     ]
    },
    {
     "data": {
      "text/plain": [
       "[0.89590975316101007, 0.62824311441581904]"
      ]
     },
     "execution_count": 42,
     "metadata": {},
     "output_type": "execute_result"
    }
   ],
   "source": [
    "lstm.evaluate(X_test_seq, y_test_rnn)"
   ]
  },
  {
   "cell_type": "code",
   "execution_count": 48,
   "metadata": {},
   "outputs": [
    {
     "name": "stdout",
     "output_type": "stream",
     "text": [
      "38813/38813 [==============================] - 74s 2ms/step\n",
      "Test accuracy: 62.8243%\n"
     ]
    }
   ],
   "source": [
    "score1 =lstm.evaluate(X_test_seq, y_test_rnn)\n",
    "accuracy = 100*score1[1]\n",
    "\n",
    "# print test accuracy\n",
    "print('Test accuracy: %.4f%%' % accuracy)"
   ]
  },
  {
   "cell_type": "markdown",
   "metadata": {},
   "source": [
    "### Accuracy of Deep Neural Network with LSTM = 62.8243%"
   ]
  },
  {
   "cell_type": "markdown",
   "metadata": {},
   "source": [
    "### Result Visualizations"
   ]
  },
  {
   "cell_type": "code",
   "execution_count": 50,
   "metadata": {},
   "outputs": [],
   "source": [
    "# Plot accuracy scores of top performing models\n",
    "models = [\"NaiveBayes(CV)\", \"LinearSVC(TV)\", \"NeuralNetwork\", \"NN with LSTM\"]\n",
    "accuracy = [49.058, 64.621, 62.26, 62.82]"
   ]
  },
  {
   "cell_type": "code",
   "execution_count": 51,
   "metadata": {
    "scrolled": true
   },
   "outputs": [
    {
     "data": {
      "text/plain": [
       "(array([0, 1, 2, 3]), <a list of 4 Text xticklabel objects>)"
      ]
     },
     "execution_count": 51,
     "metadata": {},
     "output_type": "execute_result"
    },
    {
     "data": {
      "image/png": "[encoded data removed]",
      "text/plain": [
       "<Figure size 432x360 with 1 Axes>"
      ]
     },
     "metadata": {},
     "output_type": "display_data"
    }
   ],
   "source": [
    "x = np.array(models)\n",
    "y = np.array(accuracy)\n",
    "plt.figure(figsize=(6,5))\n",
    "sns.barplot(x,y)\n",
    "plt.title('Plot of Model Accuracy')\n",
    "plt.xlabel('models')\n",
    "plt.ylabel('Accuracy')\n",
    "plt.xticks(rotation=90)"
   ]
  },
  {
   "cell_type": "code",
   "execution_count": 52,
   "metadata": {},
   "outputs": [
    {
     "data": {
      "text/plain": [
       "(array([0, 1, 2, 3, 4, 5, 6, 7]), <a list of 8 Text xticklabel objects>)"
      ]
     },
     "execution_count": 52,
     "metadata": {},
     "output_type": "execute_result"
    },
    {
     "data": {
      "image/png": "[encoded data removed]",
      "text/plain": [
       "<Figure size 432x360 with 1 Axes>"
      ]
     },
     "metadata": {},
     "output_type": "display_data"
    }
   ],
   "source": [
    "# Plot F1-score of Supervised models\n",
    "models = [\"NaiveBayes(CV)\", \"LogisticRegression(CV)\", \"LinearSVC(CV)\", \"RandomForest(CV)\",\n",
    "          \"NaiveBayes(TV)\",  \"LogisticRegression(TV)\", \"LinearSVC(TV)\", \"RandomForest(TV)\"]\n",
    "f1score = [0.384, 0.409, 0.407, 0.406, 0.558, 0.572, 0.638,0.626]\n",
    "import seaborn as sns\n",
    "x = np.array(models)\n",
    "y = np.array(f1score)\n",
    "plt.figure(figsize=(6,5))\n",
    "sns.barplot(x,y)\n",
    "plt.title('Plot of Supervised Model F1-Score')\n",
    "plt.xlabel('models')\n",
    "plt.ylabel('F1-Score')\n",
    "plt.xticks(rotation=90)"
   ]
  },
  {
   "cell_type": "code",
   "execution_count": 53,
   "metadata": {},
   "outputs": [],
   "source": [
    "# Plot the accuracy scores of all the models and evaluate the results\n",
    "models = [\"NaiveBayes(CV)\", \"LogisticReg(CV)\", \"LinearSVC(CV)\", \"RandomForest(CV)\",\n",
    "          \"NaiveBayes(TV)\",  \"LogisticReg(TV)\", \"LinearSVC(TV)\", \"RandomForest(TV)\", \n",
    "          \"NeuralNetwork\", \"NN with LSTM\"]\n",
    "accuracy = [49.058, 49.381, 49.327, 47.784, 61.066, 61.538, 64.621, 63.414, 62.2601, 62.8243]"
   ]
  },
  {
   "cell_type": "code",
   "execution_count": 54,
   "metadata": {},
   "outputs": [
    {
     "data": {
      "text/plain": [
       "(array([0, 1, 2, 3, 4, 5, 6, 7, 8, 9]), <a list of 10 Text xticklabel objects>)"
      ]
     },
     "execution_count": 54,
     "metadata": {},
     "output_type": "execute_result"
    },
    {
     "data": {
      "image/png": "[encoded data removed]",
      "text/plain": [
       "<Figure size 432x360 with 1 Axes>"
      ]
     },
     "metadata": {},
     "output_type": "display_data"
    }
   ],
   "source": [
    "x = np.array(models)\n",
    "y = np.array(accuracy)\n",
    "plt.figure(figsize=(6,5))\n",
    "sns.barplot(x,y)\n",
    "plt.title('Plot of Model Accuracy')\n",
    "plt.xlabel('Models')\n",
    "plt.ylabel('Accuracy')\n",
    "plt.xticks(rotation=90)"
   ]
  },
  {
   "cell_type": "markdown",
   "metadata": {},
   "source": [
    "#### Some key Observations:\n",
    "  1. Benchmark Model, Naive Bayes with Count Vectorizer, had an accuracy of 49.058%. The best model in this study was The Support Vector Machine using TfIdfVectorizer  which had a 64.621% accuracy. \n",
    "  2. It was observed that Data preprocessed with TfIdfVectorizer performed much better in all the Supervised Learning Algorithms as compared to the CountVectorizer. The accuracy was better by about 10%. The F1-score was also better. \n",
    "  3. Neural Networks did not do better. In fact LinearSVC gave a better accuracy.\n",
    "  5. LSTM gave the good accuracy, which could be increased by some more parameter tuning."
   ]
  },
  {
   "cell_type": "markdown",
   "metadata": {},
   "source": [
    "### Key Results\n",
    "\n",
    "1. Support Vector Machine using TfIdfVectorizer  is the best model for Sentiment Analysis of a multiclass classification problem.\n",
    "2. An improvement of about 13.76% in accuracy score was achieved using Neural Networks with LSTM over the Benchmark model of NaiveBayes.\n"
   ]
  },
  {
   "cell_type": "code",
   "execution_count": null,
   "metadata": {},
   "outputs": [],
   "source": []
  }
 ],
 "metadata": {
  "kernelspec": {
   "display_name": "Python 3",
   "language": "python",
   "name": "python3"
  },
  "language_info": {
   "codemirror_mode": {
    "name": "ipython",
    "version": 3
   },
   "file_extension": ".py",
   "mimetype": "text/x-python",
   "name": "python",
   "nbconvert_exporter": "python",
   "pygments_lexer": "ipython3",
   "version": "3.5.5"
  }
 },
 "nbformat": 4,
 "nbformat_minor": 2
}
